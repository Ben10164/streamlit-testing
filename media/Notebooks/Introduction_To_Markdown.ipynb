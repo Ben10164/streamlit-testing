{
 "cells": [
  {
   "cell_type": "markdown",
   "id": "782b3116-871a-4540-8ffd-e06d284ee3e1",
   "metadata": {},
   "source": [
    "This is a markdown cell\n",
    "to get it use m on a cell in editor mode"
   ]
  },
  {
   "cell_type": "markdown",
   "id": "a0b0a348-840b-4199-b3a0-8195edf505b1",
   "metadata": {},
   "source": [
    "# This is a Level 1 Header\n",
    "## This is a Level 2 Header\n",
    "### This is a Level 3 Header\n",
    "There are 6 header levels"
   ]
  },
  {
   "cell_type": "markdown",
   "id": "f512bc76-2db6-4310-8714-4ed7b35810e3",
   "metadata": {},
   "source": [
    "## New Lines\n",
    "This is a paragraph text.\n",
    "This is the same line.\n",
    "\n",
    "This is a hard break.\n",
    "\n",
    "This is a  \n",
    "soft break  \n",
    "To get this you have 2 spaces before the endl."
   ]
  },
  {
   "cell_type": "markdown",
   "id": "05014643-f821-4423-9dd2-8c19f8516311",
   "metadata": {},
   "source": [
    "## Formating\n",
    "We can **Bold** *Italicize* and ~~Strikethrough~~\n",
    ">THis is a block quote\n",
    "It can span multiple  \n",
    "lines\n",
    "\n",
    "Code formatting... inline or block  \n",
    "e.g. `import pandas as pd`   \n",
    "Or like in discord you can use triple ticks\n",
    "```\n",
    "for in in range(5):\n",
    "    print(i)\n",
    "```\n",
    "\n",
    "Syntax highlighting: (add the language after the first 3 ticks)\n",
    "```python\n",
    "for in in range(5):\n",
    "    print(i)\n",
    "```"
   ]
  },
  {
   "cell_type": "markdown",
   "id": "7ead951b-b74e-4f15-8c0c-3fb1fd428287",
   "metadata": {},
   "source": [
    "## Lists\n",
    "Unordered Lists: \n",
    "Each item has a * before. also no spaces are needed for break\n",
    "* one \n",
    "* two\n",
    "* three\n",
    "\n",
    "Ordere Lists:  \n",
    "Just add a number then a dot before the line.  \n",
    "The value of the number doesnt matter\n",
    "1. First item\n",
    "2. Second item\n",
    "1. Third item\n",
    "\n",
    "We can mix and next the list types\n",
    "1. Item 1\n",
    "1. Item 2\n",
    "    1. Item 2a\n",
    "    1. Item 2b\n",
    "    1. Item 2c\n",
    "1. Item 3\n",
    "    * Item 3 (1st half)\n",
    "    * Item 3 (2nd half)\n"
   ]
  },
  {
   "cell_type": "markdown",
   "id": "5fef1a83-f956-400c-8cd8-ca71cd387d04",
   "metadata": {},
   "source": [
    "## Links\n",
    "One way to do it is to paste a link, it makes a hyperlink.  \n",
    "like this: https://www.markdowntutorial.com/  \n",
    "You can also do this: [this markdown tutorial](https://www.markdowntutorial.com/)"
   ]
  },
  {
   "cell_type": "markdown",
   "id": "f3fa1ec5-a13a-48bc-9b22-b8f82723bc0f",
   "metadata": {},
   "source": [
    "## Images\n",
    "Alt text - is what the tts reader will read  \n",
    "`![alt text](address to photo)`  \n",
    "![This is a photo of Bram Moolenaar (Also the alt text)](https://moolenaar.net/kopk.jpg)\n",
    "\n",
    "How to resize the image:  \n",
    "`<img sec=\"address to photo\" width=\"width\">`  \n",
    "<img src=\"https://moolenaar.net/kopk.jpg\" width=\"200\">"
   ]
  },
  {
   "cell_type": "markdown",
   "id": "b1707278-ecf6-460c-9a2d-dab7b523c50e",
   "metadata": {},
   "source": [
    "## Tables\n",
    "|CarName|ModelYear|MSRP|\n",
    "|-|-|-|\n",
    "|ford pinto|75|1111|\n",
    "|toyota carolla|76|2222|"
   ]
  },
  {
   "cell_type": "markdown",
   "id": "5bff8c05-5a89-4525-9b9e-62cb6c086ff0",
   "metadata": {},
   "source": [
    "## Latex (Math Mode)\n",
    "Latex is a mathematical/document typesetting language/framework  \n",
    "We are going to use it for its math mode  \n",
    "\n",
    "Use dollar signs to enter/exit math mode\n",
    "\n",
    "Inline math mode: $y-mx+b$  \n",
    "Blocked/centered math mode: $$y=mx+b$$  \n",
    "Subscripts: $x_i$ $x_{i+1}$  \n",
    "Superscripts: $x^i$ $x^{i+1}$  \n",
    "Symbols over characters: $\\overline{x + 1} + \\widehat{y+1}$  \n",
    "Special symbols: $\\pi, \\mu, \\sigma, \\Sigma, \\forall$  \n",
    "Square root: $\\sqrt{x+1}$  \n",
    "Summation notation: $\\sum_{i=1}^{n} i \\times x_i$  \n",
    "Fractions: $\\frac{1-x}{y+2}$"
   ]
  }
 ],
 "metadata": {
  "interpreter": {
   "hash": "42f2e04143d7207fe24b7231a7967b30a58f6a4af2031ceb790690a1f6850973"
  },
  "kernelspec": {
   "display_name": "Python 3",
   "language": "python",
   "name": "python3"
  },
  "language_info": {
   "codemirror_mode": {
    "name": "ipython",
    "version": 3
   },
   "file_extension": ".py",
   "mimetype": "text/x-python",
   "name": "python",
   "nbconvert_exporter": "python",
   "pygments_lexer": "ipython3",
   "version": "3.8.8"
  }
 },
 "nbformat": 4,
 "nbformat_minor": 5
}
